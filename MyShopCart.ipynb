{
 "cells": [
  {
   "cell_type": "markdown",
   "id": "e5b67700-4b2a-4734-8a9c-f6f4cf546add",
   "metadata": {},
   "source": [
    "# Product Class"
   ]
  },
  {
   "cell_type": "code",
   "execution_count": 18,
   "id": "af4d5d34-69d7-4fe8-8832-3497c85d00d2",
   "metadata": {},
   "outputs": [],
   "source": [
    "class Product:\n",
    "    instances = []\n",
    "    def __init__(self, name, price, quantity):\n",
    "        self.name = name\n",
    "        self.price = price\n",
    "        self.quantity = quantity\n",
    "        Product.instances.append(self)\n",
    "        \n",
    "    def update_quantity(self, new_quantity): \n",
    "        self.quantity = new_quantity\n",
    "    def display_info(self):\n",
    "        print(\"Product Name:{}\\tPrice:{}\\tQuantity:{}\".format(self.name,self.price,self.quantity))\n",
    "    @classmethod\n",
    "    def getProducts(cls):\n",
    "        return Product.instances"
   ]
  },
  {
   "cell_type": "markdown",
   "id": "72145b61-5d7d-4617-9d4a-371299963665",
   "metadata": {},
   "source": [
    "# Customer Class"
   ]
  },
  {
   "cell_type": "code",
   "execution_count": 19,
   "id": "e58a1e68-0f81-4eae-81e6-a755a1f24754",
   "metadata": {},
   "outputs": [],
   "source": [
    "class Customer:\n",
    "    instances = []\n",
    "    def __init__(self,name,email):\n",
    "        self.name=name\n",
    "        self.email=email\n",
    "        #list of dictionaries: {product:quantity}\n",
    "        self.order_history = []  \n",
    "        Customer.instances.append(self)\n",
    "    def add_order(self, order):\n",
    "        \"\"\"\n",
    "        order : dictionary with {product:quantity,...}\n",
    "        \"\"\"\n",
    "        self.order_history.append(order)\n",
    "    def display_info(self):\n",
    "        print(f\"Customer Name: {self.name}\\nEmail: {self.email}\\n\")\n",
    "        ordercount=1\n",
    "        for order in self.order_history:\n",
    "            print(f\"Order No.:{ordercount}\\n\")\n",
    "            for key in order:\n",
    "                print(f\"\\tProduct Name: {key.name}\\tQuantity: {order[key]}\\n\")\n",
    "            ordercount+=1;\n",
    "            print(\"\\n\\n\")\n",
    "    @classmethod\n",
    "    def getCustomers(cls):\n",
    "        return Customer.instances"
   ]
  },
  {
   "cell_type": "markdown",
   "id": "cf12c3b5-5b94-41af-805d-d5174cbd8b8f",
   "metadata": {},
   "source": [
    "### Process Order for Cart"
   ]
  },
  {
   "cell_type": "code",
   "execution_count": 20,
   "id": "951dcd55-8572-4c7d-93ac-d7fdd1d00b7f",
   "metadata": {},
   "outputs": [],
   "source": [
    "def process_order(product,quantity):\n",
    "    if(product.quantity>=quantity):\n",
    "        product.quantity-=quantity\n",
    "        print(f\"Order processed for {product.name}\\tQuantity:{quantity}\\tAmount:{product.price*quantity}\")\n",
    "        return True\n",
    "    else:\n",
    "        print(f\"Order can't be processed for {product.name}\")\n",
    "        return False"
   ]
  },
  {
   "cell_type": "markdown",
   "id": "4be64e99-0be1-4a46-8294-a3e64576b9da",
   "metadata": {},
   "source": [
    "# Cart class:"
   ]
  },
  {
   "cell_type": "code",
   "execution_count": 21,
   "id": "e8997e0f-54a1-4995-bbc9-c3a0cc54db62",
   "metadata": {},
   "outputs": [],
   "source": [
    "class Cart:\n",
    "    def __init__(self):\n",
    "        self.item={}\n",
    "\n",
    "    def add_product(self, product_name):\n",
    "        \"\"\"\n",
    "        product_name : string\n",
    "        returns : current quantity of the corresponding product in cart\n",
    "        \"\"\"\n",
    "        products = Product.getProducts(); #object list\n",
    "        product = None\n",
    "        for p in products:\n",
    "            if(p.name == product_name):\n",
    "                product = p\n",
    "                break\n",
    "        if product is None:\n",
    "            print(\"Order can't be processed! Product doesn't exist!\\n\")\n",
    "            return\n",
    "        \n",
    "        if product in self.item:\n",
    "            if(product.quantity-self.item[product]>0): \n",
    "                self.item[product]+=1;\n",
    "            else:\n",
    "                print(\"Out of Stock!\")\n",
    "        else:\n",
    "            if(product.quantity>0): \n",
    "                self.item[product]=1\n",
    "            else:\n",
    "                print(\"Out of Stock!\")\n",
    "            \n",
    "    def check_out(self, customer_name):\n",
    "        \"\"\"\n",
    "        customer_name : string\n",
    "        \"\"\"\n",
    "        customers = Customer.getCustomers() #object list\n",
    "        customer = None\n",
    "        for c in customers:\n",
    "            if(c.name == customer_name):\n",
    "                customer = c\n",
    "                break\n",
    "        if customer is None:\n",
    "            print(\"Order can't be processed! Customer doesn't exist\\n\")\n",
    "            return\n",
    "        \n",
    "        processed_orders={}\n",
    "        for product in self.item:\n",
    "            if process_order(product ,self.item[product]):\n",
    "                processed_orders[product] = self.item[product]\n",
    "        if processed_orders:\n",
    "            customer.add_order(processed_orders)\n",
    "        self.item={}"
   ]
  },
  {
   "cell_type": "markdown",
   "id": "fd9468d0-fc91-4c9c-8848-2b1804c6d94c",
   "metadata": {},
   "source": [
    "# Save to File Functions"
   ]
  },
  {
   "cell_type": "code",
   "execution_count": 22,
   "id": "e52d7eb8-aa85-4a4a-9947-70677d6b43c8",
   "metadata": {},
   "outputs": [],
   "source": [
    "def save_to_file(filename, content):\n",
    "    \"\"\"\n",
    "    content : list of objects : customers or products\n",
    "    \"\"\"\n",
    "    if(filename == \"products.txt\"):\n",
    "        products = content\n",
    "        with open('products.txt', 'w') as f:\n",
    "            for product in products:\n",
    "                f.write(f\"{product.name},{product.price},{product.quantity}\\n\")\n",
    "\n",
    "    if(filename==\"customers.txt\"):\n",
    "        customers = content\n",
    "        with open('customers.txt', 'w') as f, open('order_history.txt','w') as f1:\n",
    "            for customer in customers:\n",
    "                f.write(f\"{customer.name},{customer.email}\\n\")\n",
    "\n",
    "                ######################################################\n",
    "                #orderno,email,product_name,quantity,price per quantity\n",
    "                ordercount=0\n",
    "                for order in customer.order_history:\n",
    "                    for key in order:\n",
    "                        f1.write(f\"{ordercount},{customer.email},\")\n",
    "                        f1.write(f\"{key.name},{order[key]},{key.price}\\n\")\n",
    "                    ordercount+=1;"
   ]
  },
  {
   "cell_type": "markdown",
   "id": "462b3c0e-99c8-4f36-afb0-12a91aa64991",
   "metadata": {},
   "source": [
    "# Load From File"
   ]
  },
  {
   "cell_type": "code",
   "execution_count": 23,
   "id": "e4f3a1ad-11ea-4fa2-a23d-5ec0bb203ee4",
   "metadata": {},
   "outputs": [],
   "source": [
    "def load_from_file(filename):\n",
    "    if(filename == \"products.txt\"):\n",
    "        with open(\"products.txt\", \"r\") as f:\n",
    "            lines = f.readlines()\n",
    "            for line in lines:\n",
    "                name, price, quantity = line.strip().split(',')\n",
    "                p1 = Product(name,int(price),int(quantity))\n",
    "    if(filename == \"customers.txt\"):\n",
    "        with open(\"customers.txt\", \"r\") as f,open (\"order_history.txt\", \"r\") as f1 :\n",
    "            lines = f.readlines()\n",
    "            for line in lines:\n",
    "                name, email = line.strip().split(',')\n",
    "                c1 = Customer(name,email)\n",
    "                ##########################################\n",
    "                orders = f1.readlines()\n",
    "                for order in orders:\n",
    "                    orderno, email, pname,quantity,price = order.strip().split(',')\n",
    "                    if(email==c1.email):\n",
    "                        index = int(orderno)\n",
    "                        while len(c1.order_history)<=index:\n",
    "                            c1.order_history.append({})\n",
    "                            \n",
    "                        products = Product.getProducts(); #object list\n",
    "                        product = None\n",
    "                        for p in products:\n",
    "                            if(p.name == pname):\n",
    "                                product = p\n",
    "                                break\n",
    "                                \n",
    "                        c1.order_history[index][product]=int(quantity)\n",
    "                "
   ]
  },
  {
   "cell_type": "markdown",
   "id": "ad590386-e401-4d4d-b453-cbf2cf6c2e1b",
   "metadata": {},
   "source": [
    "# Generate Sales Report"
   ]
  },
  {
   "cell_type": "code",
   "execution_count": 24,
   "id": "d23f163f-c421-4b64-a659-c56d1f8a5ec3",
   "metadata": {},
   "outputs": [],
   "source": [
    "def generate_sales_report(customers):\n",
    "    print(\"Sales Report:\\n\")\n",
    "    revenue=0\n",
    "    pq={} # product:quantity\n",
    "    for c in customers:\n",
    "        for order in c.order_history:    #order : dict   order_history: List of dictionaries\n",
    "            for product, quantity in order.items():\n",
    "                revenue+=(quantity*product.price)\n",
    "                if product in pq:\n",
    "                    pq[product]+=quantity\n",
    "                else:\n",
    "                    pq[product]=quantity\n",
    "    #most popular product\n",
    "    print(f\"Revenue: {revenue}\\n\")\n",
    "    print(f\"Most Popular Products:\\n\")\n",
    "\n",
    "    sorted_pq = list(sorted(pq.items(), key=lambda x: x[1], reverse=True))\n",
    "    for key, value in sorted_pq[:3] :\n",
    "        print(f\"{key.name}:{value} sold\\n\")\n",
    "\n",
    "    return revenue, sorted_pq[:3]\n",
    "    "
   ]
  },
  {
   "cell_type": "markdown",
   "id": "13acc722-b755-48d2-9a27-1ccf83321717",
   "metadata": {},
   "source": [
    "## Email Validation"
   ]
  },
  {
   "cell_type": "code",
   "execution_count": 38,
   "id": "60d204b5-abde-40c9-815d-64c3ad43826e",
   "metadata": {},
   "outputs": [],
   "source": [
    "import re\n",
    "email_pattern = r'^[a-zA-Z0-9._%+-]+@[a-zA-Z0-9.-]+\\.[a-zA-Z]{2,}$'\n",
    "def is_valid_email(email):\n",
    "    return bool(re.match(email_pattern, email))"
   ]
  },
  {
   "cell_type": "markdown",
   "id": "10f76da4-9560-40a4-a211-c5f5b1d057a6",
   "metadata": {},
   "source": [
    "# INTERFACE"
   ]
  },
  {
   "cell_type": "code",
   "execution_count": 39,
   "id": "f5ba0b23-6f8b-4056-aece-2c55dde16860",
   "metadata": {},
   "outputs": [],
   "source": [
    "def main():\n",
    "    load_from_file(\"products.txt\")\n",
    "    load_from_file(\"customers.txt\")\n",
    "    while True:\n",
    "        print(\"\\nE-Commerce Management System\\n1. Add Product\\n2. Add Customer\\n3. Process Order\\n4. Generate Sales Report\\n5. Exit\\n\")\n",
    "        try:\n",
    "            choice = int(input(\"Enter your choice: \"))\n",
    "            if(choice==1):\n",
    "                name = input(\"Enter Product Name: \")\n",
    "                price = int(input(\"Enter Product Price: \"))\n",
    "                quantity = int(input(\"Enter Product Quantity: \"))\n",
    "                assert quantity>=0, \"Quantity can't be negative\\n\"\n",
    "                assert price>0, \"Price must be positive\\n\"\n",
    "                \n",
    "                products = Product.getProducts();         #product list\n",
    "                product = None\n",
    "                for p in products:\n",
    "                    if(p.name == name):\n",
    "                        product = p\n",
    "                        break\n",
    "    \n",
    "                if product is None:\n",
    "                    p1 = Product(name, price, quantity)\n",
    "                    print(\"Product added successfully.\\n\")\n",
    "                    p1.display_info()\n",
    "                    print('\\n')\n",
    "                else:\n",
    "                    print(\"Product already exists!\\n\")\n",
    "                    c = (input(\"Do you want to update price and quantity?(y/n): \"))\n",
    "                    if(c.lower()=='y' or c.lower()=='yes'):\n",
    "                        product.quantity+=quantity\n",
    "                        product.price=price\n",
    "                        print(f\"Quantity & Price updated!\\nQuantity:{product.quantity}\\tPrice:{product.price}\\n\")\n",
    "                    else:\n",
    "                        print(\"Quantity & Price not updated!\\n\")\n",
    "                    \n",
    "            elif(choice==2):\n",
    "                name = input(\"Enter customer name: \")\n",
    "                email = input(\"Enter customer email: \")\n",
    "                assert is_valid_email(email), \"Please input valid email!!\"\n",
    "                #check if customer is already there\n",
    "                customers = Customer.getCustomers() #object list\n",
    "                customer = None\n",
    "                for c in customers:\n",
    "                    if(c.email == email and c.name == name):\n",
    "                        customer = c\n",
    "                        break\n",
    "    \n",
    "                if customer is None:\n",
    "                    c1 = Customer(name,email)\n",
    "                    print(\"Customer added successfully!\\n\")\n",
    "                    c1.display_info()\n",
    "                else:\n",
    "                    print(\"Customer already exists!\\n\")\n",
    "    \n",
    "            elif(choice==3):\n",
    "                customer_name = input(\"Enter customer name: \")\n",
    "                product_name = input(\"Enter product name: \")\n",
    "                q = int(input(\"Enter Quantity: \"))\n",
    "                assert q>0, \"quantity must be positive!\\n\"\n",
    "                c1 = Cart()\n",
    "                for i in range(q):\n",
    "                    c1.add_product(product_name)\n",
    "                c1.check_out(customer_name)\n",
    "                print(f\"Order processed successfully!\\n\")\n",
    "                \n",
    "            elif(choice==4):\n",
    "                customers = Customer.getCustomers()\n",
    "                generate_sales_report(customers)\n",
    "            elif(choice==5):\n",
    "                products = Product.getProducts();\n",
    "                customers = Customer.getCustomers()\n",
    "                save_to_file(\"products.txt\",products)\n",
    "                save_to_file(\"customers.txt\",customers)\n",
    "                print(\"Exiting...\\n\")\n",
    "                break\n",
    "            else:\n",
    "                print(\"invalid choice!\")\n",
    "        except ValueError as e:\n",
    "            print(\"input should be integer\")\n",
    "        except Exception as e:\n",
    "            print( f\"{type(e).__name__} : {e}\")\n"
   ]
  },
  {
   "cell_type": "code",
   "execution_count": 40,
   "id": "9b0e37a7-301f-48aa-8c00-ede24acce513",
   "metadata": {},
   "outputs": [
    {
     "name": "stdout",
     "output_type": "stream",
     "text": [
      "\n",
      "E-Commerce Management System\n",
      "1. Add Product\n",
      "2. Add Customer\n",
      "3. Process Order\n",
      "4. Generate Sales Report\n",
      "5. Exit\n",
      "\n"
     ]
    },
    {
     "name": "stdin",
     "output_type": "stream",
     "text": [
      "Enter your choice:  2\n",
      "Enter customer name:  som\n",
      "Enter customer email:  som\n"
     ]
    },
    {
     "name": "stdout",
     "output_type": "stream",
     "text": [
      "AssertionError : Please input valid email!!\n",
      "\n",
      "E-Commerce Management System\n",
      "1. Add Product\n",
      "2. Add Customer\n",
      "3. Process Order\n",
      "4. Generate Sales Report\n",
      "5. Exit\n",
      "\n"
     ]
    },
    {
     "name": "stdin",
     "output_type": "stream",
     "text": [
      "Enter your choice:  2\n",
      "Enter customer name:  som\n",
      "Enter customer email:  som@gmail.com\n"
     ]
    },
    {
     "name": "stdout",
     "output_type": "stream",
     "text": [
      "Customer added successfully!\n",
      "\n",
      "Customer Name: som\n",
      "Email: som@gmail.com\n",
      "\n",
      "\n",
      "E-Commerce Management System\n",
      "1. Add Product\n",
      "2. Add Customer\n",
      "3. Process Order\n",
      "4. Generate Sales Report\n",
      "5. Exit\n",
      "\n"
     ]
    },
    {
     "name": "stdin",
     "output_type": "stream",
     "text": [
      "Enter your choice:  5\n"
     ]
    },
    {
     "name": "stdout",
     "output_type": "stream",
     "text": [
      "Exiting...\n",
      "\n"
     ]
    }
   ],
   "source": [
    "main()"
   ]
  },
  {
   "cell_type": "code",
   "execution_count": 15,
   "id": "59fb167e-550c-4340-ae74-a254b00cc9be",
   "metadata": {},
   "outputs": [
    {
     "name": "stdout",
     "output_type": "stream",
     "text": [
      "i must be positive\n",
      "-1\n"
     ]
    }
   ],
   "source": [
    "i=-1\n",
    "try:\n",
    "    if(i<=0):\n",
    "        raise ValueError(\"i must be positive\")\n",
    "    \n",
    "except ValueError as e:\n",
    "    print(e)\n",
    "print(i)"
   ]
  },
  {
   "cell_type": "code",
   "execution_count": 16,
   "id": "52e5c441-f36f-4f30-aed4-3dca12eeb42a",
   "metadata": {},
   "outputs": [
    {
     "ename": "TypeError",
     "evalue": "unsupported operand type(s) for +=: 'int' and 'str'",
     "output_type": "error",
     "traceback": [
      "\u001b[31m---------------------------------------------------------------------------\u001b[39m",
      "\u001b[31mTypeError\u001b[39m                                 Traceback (most recent call last)",
      "\u001b[36mCell\u001b[39m\u001b[36m \u001b[39m\u001b[32mIn[16]\u001b[39m\u001b[32m, line 1\u001b[39m\n\u001b[32m----> \u001b[39m\u001b[32m1\u001b[39m \u001b[43mi\u001b[49m\u001b[43m+\u001b[49m\u001b[43m=\u001b[49m\u001b[33;43m'\u001b[39;49m\u001b[33;43ms\u001b[39;49m\u001b[33;43m'\u001b[39;49m\n",
      "\u001b[31mTypeError\u001b[39m: unsupported operand type(s) for +=: 'int' and 'str'"
     ]
    }
   ],
   "source": [
    "i+='s'"
   ]
  },
  {
   "cell_type": "code",
   "execution_count": 17,
   "id": "7663914c-d770-4dec-8877-ebf88cd58b20",
   "metadata": {},
   "outputs": [
    {
     "name": "stdin",
     "output_type": "stream",
     "text": [
      "Enter your choice:  d\n"
     ]
    },
    {
     "ename": "ValueError",
     "evalue": "invalid literal for int() with base 10: 'd'",
     "output_type": "error",
     "traceback": [
      "\u001b[31m---------------------------------------------------------------------------\u001b[39m",
      "\u001b[31mValueError\u001b[39m                                Traceback (most recent call last)",
      "\u001b[36mCell\u001b[39m\u001b[36m \u001b[39m\u001b[32mIn[17]\u001b[39m\u001b[32m, line 1\u001b[39m\n\u001b[32m----> \u001b[39m\u001b[32m1\u001b[39m choice = \u001b[38;5;28;43mint\u001b[39;49m\u001b[43m(\u001b[49m\u001b[38;5;28;43minput\u001b[39;49m\u001b[43m(\u001b[49m\u001b[33;43m\"\u001b[39;49m\u001b[33;43mEnter your choice: \u001b[39;49m\u001b[33;43m\"\u001b[39;49m\u001b[43m)\u001b[49m\u001b[43m)\u001b[49m\n",
      "\u001b[31mValueError\u001b[39m: invalid literal for int() with base 10: 'd'"
     ]
    }
   ],
   "source": [
    "try:\n",
    "    choice = int(input(\"Enter your choice: \"))\n"
   ]
  },
  {
   "cell_type": "code",
   "execution_count": 24,
   "id": "49691ec5-65a5-4d95-8082-197bc93b985d",
   "metadata": {},
   "outputs": [],
   "source": [
    "customers = Customer.getCustomers()\n",
    "products = Product.getProducts()"
   ]
  },
  {
   "cell_type": "code",
   "execution_count": 25,
   "id": "920e846d-1de2-472a-85c5-cfff254bbf73",
   "metadata": {},
   "outputs": [
    {
     "data": {
      "text/plain": [
       "5"
      ]
     },
     "execution_count": 25,
     "metadata": {},
     "output_type": "execute_result"
    }
   ],
   "source": [
    "len(customers)"
   ]
  },
  {
   "cell_type": "code",
   "execution_count": 26,
   "id": "e9f38a7b-01ea-4fb3-9c03-0914679cb044",
   "metadata": {},
   "outputs": [
    {
     "data": {
      "text/plain": [
       "9"
      ]
     },
     "execution_count": 26,
     "metadata": {},
     "output_type": "execute_result"
    }
   ],
   "source": [
    "len(products)"
   ]
  },
  {
   "cell_type": "code",
   "execution_count": 12,
   "id": "77048ff8-d20e-4ecc-8da6-162b94204b05",
   "metadata": {},
   "outputs": [],
   "source": [
    "Customer1 = Customer('Sayantika', 'sayantika84@gmail.com')\n",
    "Customer2 = Customer('Somenath', 'somenathgarai@gmail.com')"
   ]
  },
  {
   "cell_type": "code",
   "execution_count": 20,
   "id": "e585fce3-13ea-4696-87fa-1484f58b1dbb",
   "metadata": {},
   "outputs": [
    {
     "name": "stdout",
     "output_type": "stream",
     "text": [
      "Product Name:Asus A1\tPrice:50000\tQuantity:23\n"
     ]
    }
   ],
   "source": [
    "Laptop1 = Product('Asus A1', 50000, 23)\n",
    "Laptop2 = Product('Asus A2', 55000, 45)\n",
    "Laptop3 = Product('Asus A3', 60000, 43)\n",
    "Phone1 = Product('Mi A1', 6000, 2)\n",
    "Laptop1.display_info()"
   ]
  },
  {
   "cell_type": "code",
   "execution_count": 14,
   "id": "4abff687-8143-4aae-a275-346cd4d5a2f8",
   "metadata": {},
   "outputs": [
    {
     "name": "stdout",
     "output_type": "stream",
     "text": [
      "Product Name:Asus A1\tPrice:50000\tQuantity:25\n"
     ]
    }
   ],
   "source": [
    "Laptop1.update_quantity(25)\n",
    "Laptop1.display_info()"
   ]
  },
  {
   "cell_type": "code",
   "execution_count": 15,
   "id": "053da5a5-3ad6-4ecc-a108-94ff4bcc727e",
   "metadata": {},
   "outputs": [
    {
     "name": "stdout",
     "output_type": "stream",
     "text": [
      "Customer Name: Sayantika\n",
      "Email: sayantika84@gmail.com\n",
      "\n",
      "Order No.:1\n",
      "\n",
      "\tProduct Name: Asus A1\tQuantity: 3\n",
      "\n",
      "\tProduct Name: Asus A2\tQuantity: 4\n",
      "\n",
      "\n",
      "\n",
      "\n",
      "Order No.:2\n",
      "\n",
      "\tProduct Name: Asus A1\tQuantity: 1\n",
      "\n",
      "\tProduct Name: Asus A2\tQuantity: 5\n",
      "\n",
      "\n",
      "\n",
      "\n"
     ]
    }
   ],
   "source": [
    "Customer1.add_order({Laptop1 : 3, Laptop2 :4})\n",
    "Customer1.add_order({Laptop1 : 1, Laptop2 :5})\n",
    "Customer1.display_info()"
   ]
  },
  {
   "cell_type": "code",
   "execution_count": 16,
   "id": "e8625cf9-d5c0-4b0c-a032-7d9b19cfde4a",
   "metadata": {},
   "outputs": [
    {
     "name": "stdout",
     "output_type": "stream",
     "text": [
      "Customer Name: Somenath\n",
      "Email: somenathgarai@gmail.com\n",
      "\n"
     ]
    }
   ],
   "source": [
    "Customer2.display_info()"
   ]
  },
  {
   "cell_type": "markdown",
   "id": "e7c7bcad-ac21-45f7-af1d-d313c4ed8b11",
   "metadata": {},
   "source": [
    "## Error to Be Handled : print (\"Product is not available\")"
   ]
  },
  {
   "cell_type": "code",
   "execution_count": 71,
   "id": "b823358d-d65b-4a43-b8ae-a28973c6fdc0",
   "metadata": {},
   "outputs": [
    {
     "ename": "NameError",
     "evalue": "name 'Laptop4' is not defined",
     "output_type": "error",
     "traceback": [
      "\u001b[31m---------------------------------------------------------------------------\u001b[39m",
      "\u001b[31mNameError\u001b[39m                                 Traceback (most recent call last)",
      "\u001b[36mCell\u001b[39m\u001b[36m \u001b[39m\u001b[32mIn[71]\u001b[39m\u001b[32m, line 1\u001b[39m\n\u001b[32m----> \u001b[39m\u001b[32m1\u001b[39m Customer1.add_order({\u001b[43mLaptop4\u001b[49m : \u001b[32m1\u001b[39m, Laptop2 :\u001b[32m5\u001b[39m})\n",
      "\u001b[31mNameError\u001b[39m: name 'Laptop4' is not defined"
     ]
    }
   ],
   "source": [
    "Customer1.add_order({Laptop4 : 1, Laptop2 :5})"
   ]
  },
  {
   "cell_type": "markdown",
   "id": "9853716d-f29d-41ba-8a0e-938e24029264",
   "metadata": {},
   "source": [
    "### handle product out of stock error while adding product, also product exists or not\n",
    "#### add outofstockerror in else\n"
   ]
  },
  {
   "cell_type": "code",
   "execution_count": 74,
   "id": "829f2ca0-6875-4382-9dac-64b160c939bd",
   "metadata": {},
   "outputs": [
    {
     "name": "stdout",
     "output_type": "stream",
     "text": [
      "Mi A1,1\n",
      "\n",
      "Asus A1,1\n",
      "\n"
     ]
    }
   ],
   "source": [
    "c1 = Cart()\n",
    "c1.add_product('Mi A1')\n",
    "c1.add_product('Asus A1')\n",
    "for key,value in c1.item.items():\n",
    "    print(f\"{key.name},{value}\\n\")"
   ]
  },
  {
   "cell_type": "code",
   "execution_count": 75,
   "id": "7e3c9c19-3b93-4cc1-8098-ee0912bdc309",
   "metadata": {},
   "outputs": [
    {
     "name": "stdout",
     "output_type": "stream",
     "text": [
      "Order processed for Mi A1\tQuantity:1\tAmount:6000\n",
      "Order processed for Asus A1\tQuantity:1\tAmount:50000\n",
      "Customer Name: Sayantika\n",
      "Email: sayantika84@gmail.com\n",
      "\n",
      "Order No.:1\n",
      "\n",
      "\tProduct Name: Asus A1\tQuantity: 3\n",
      "\n",
      "\tProduct Name: Asus A2\tQuantity: 4\n",
      "\n",
      "\n",
      "\n",
      "\n",
      "Order No.:2\n",
      "\n",
      "\tProduct Name: Asus A1\tQuantity: 1\n",
      "\n",
      "\tProduct Name: Asus A2\tQuantity: 5\n",
      "\n",
      "\n",
      "\n",
      "\n",
      "Order No.:3\n",
      "\n",
      "\tProduct Name: Mi A1\tQuantity: 1\n",
      "\n",
      "\tProduct Name: Asus A1\tQuantity: 1\n",
      "\n",
      "\n",
      "\n",
      "\n"
     ]
    }
   ],
   "source": [
    "c1.checkout('Sayantika')\n",
    "Customer1.display_info()"
   ]
  },
  {
   "cell_type": "code",
   "execution_count": 76,
   "id": "8921dbc8-7409-480a-9dac-4c568ac17196",
   "metadata": {},
   "outputs": [
    {
     "data": {
      "text/plain": [
       "1"
      ]
     },
     "execution_count": 76,
     "metadata": {},
     "output_type": "execute_result"
    }
   ],
   "source": [
    "Phone1.quantity"
   ]
  },
  {
   "cell_type": "markdown",
   "id": "bde644f3-d0bc-4905-907b-cb3315fd09c3",
   "metadata": {},
   "source": [
    "### Get List of Customers and Products"
   ]
  },
  {
   "cell_type": "code",
   "execution_count": 79,
   "id": "0dde0ab4-15bd-4751-a26c-1e6d4c32e499",
   "metadata": {},
   "outputs": [],
   "source": [
    "save_to_file(\"products.txt\",products)\n",
    "save_to_file(\"customers.txt\",customers)"
   ]
  },
  {
   "cell_type": "code",
   "execution_count": 17,
   "id": "ca9fee85-8112-48dd-9983-1ac87a80b9ed",
   "metadata": {},
   "outputs": [],
   "source": [
    "customers = Customer.getCustomers()\n",
    "products = Product.getProducts()"
   ]
  },
  {
   "cell_type": "code",
   "execution_count": 18,
   "id": "463045ab-9472-4752-97d3-1e691d6777f4",
   "metadata": {},
   "outputs": [
    {
     "data": {
      "text/plain": [
       "0"
      ]
     },
     "execution_count": 18,
     "metadata": {},
     "output_type": "execute_result"
    }
   ],
   "source": [
    "len(customers)"
   ]
  },
  {
   "cell_type": "code",
   "execution_count": 16,
   "id": "97c8190e-e841-4261-b838-fd493d8d35fd",
   "metadata": {},
   "outputs": [
    {
     "data": {
      "text/plain": [
       "0"
      ]
     },
     "execution_count": 16,
     "metadata": {},
     "output_type": "execute_result"
    }
   ],
   "source": [
    "len(products)"
   ]
  },
  {
   "cell_type": "code",
   "execution_count": 19,
   "id": "c7907505-c52f-4870-922c-2a043944377d",
   "metadata": {},
   "outputs": [],
   "source": [
    "load_from_file(\"products.txt\")"
   ]
  },
  {
   "cell_type": "code",
   "execution_count": 20,
   "id": "c5d4e1c5-eda5-4419-9879-0f5c107b1d46",
   "metadata": {},
   "outputs": [
    {
     "data": {
      "text/plain": [
       "2"
      ]
     },
     "execution_count": 20,
     "metadata": {},
     "output_type": "execute_result"
    }
   ],
   "source": [
    "len(customers)"
   ]
  },
  {
   "cell_type": "code",
   "execution_count": 21,
   "id": "9ab17658-1910-4e2f-b65b-e762f5afb93b",
   "metadata": {},
   "outputs": [
    {
     "name": "stdout",
     "output_type": "stream",
     "text": [
      "Sayantika\n",
      "Somenath\n"
     ]
    }
   ],
   "source": [
    "for c in customers:\n",
    "    print(c.name)"
   ]
  },
  {
   "cell_type": "code",
   "execution_count": 22,
   "id": "655ce32a-ee18-477f-833d-899c219404dc",
   "metadata": {},
   "outputs": [
    {
     "data": {
      "text/plain": [
       "4"
      ]
     },
     "execution_count": 22,
     "metadata": {},
     "output_type": "execute_result"
    }
   ],
   "source": [
    "len(products)"
   ]
  },
  {
   "cell_type": "code",
   "execution_count": 23,
   "id": "fe1b020b-ec01-4b5b-9c3d-bd21c70332db",
   "metadata": {},
   "outputs": [
    {
     "name": "stdout",
     "output_type": "stream",
     "text": [
      "Asus A1\n",
      "Asus A2\n",
      "Asus A3\n",
      "Mi A1\n"
     ]
    }
   ],
   "source": [
    "for p in products:\n",
    "    print(p.name)"
   ]
  },
  {
   "cell_type": "code",
   "execution_count": 47,
   "id": "c35be31d-1073-4d56-bf09-3085d8a248a5",
   "metadata": {},
   "outputs": [
    {
     "name": "stdout",
     "output_type": "stream",
     "text": [
      "[{<__main__.Product object at 0x000001AD084EA510>: 3, <__main__.Product object at 0x000001AD084EA540>: 4}, {<__main__.Product object at 0x000001AD084EA510>: 1, <__main__.Product object at 0x000001AD084EA540>: 5}, {<__main__.Product object at 0x000001AD084E8F80>: 1, <__main__.Product object at 0x000001AD084EA510>: 1}]\n",
      "[{<__main__.Product object at 0x000001AD084EA510>: 3, <__main__.Product object at 0x000001AD084EA540>: 4}, {<__main__.Product object at 0x000001AD084EA510>: 1, <__main__.Product object at 0x000001AD084EA540>: 5}, {<__main__.Product object at 0x000001AD084E8F80>: 1, <__main__.Product object at 0x000001AD084EA510>: 1}]\n"
     ]
    }
   ],
   "source": [
    "for c in customers:\n",
    "    print(c.order_history)"
   ]
  },
  {
   "cell_type": "code",
   "execution_count": 48,
   "id": "eacfb198-5f57-4385-983e-571083c8e244",
   "metadata": {},
   "outputs": [
    {
     "name": "stdout",
     "output_type": "stream",
     "text": [
      "Customer Name: Sayantika\n",
      "Email: sayantika84@gmail.com\n",
      "\n",
      "Order No.:1\n",
      "\n",
      "\tProduct Name: Asus A1\tQuantity: 3\n",
      "\n",
      "\tProduct Name: Asus A2\tQuantity: 4\n",
      "\n",
      "\n",
      "\n",
      "\n",
      "Order No.:2\n",
      "\n",
      "\tProduct Name: Asus A1\tQuantity: 1\n",
      "\n",
      "\tProduct Name: Asus A2\tQuantity: 5\n",
      "\n",
      "\n",
      "\n",
      "\n",
      "Order No.:3\n",
      "\n",
      "\tProduct Name: Mi A1\tQuantity: 1\n",
      "\n",
      "\tProduct Name: Asus A1\tQuantity: 1\n",
      "\n",
      "\n",
      "\n",
      "\n",
      "Customer Name: Somenath\n",
      "Email: somenathgarai@gmail.com\n",
      "\n",
      "Order No.:1\n",
      "\n",
      "\tProduct Name: Asus A1\tQuantity: 3\n",
      "\n",
      "\tProduct Name: Asus A2\tQuantity: 4\n",
      "\n",
      "\n",
      "\n",
      "\n",
      "Order No.:2\n",
      "\n",
      "\tProduct Name: Asus A1\tQuantity: 1\n",
      "\n",
      "\tProduct Name: Asus A2\tQuantity: 5\n",
      "\n",
      "\n",
      "\n",
      "\n",
      "Order No.:3\n",
      "\n",
      "\tProduct Name: Mi A1\tQuantity: 1\n",
      "\n",
      "\tProduct Name: Asus A1\tQuantity: 1\n",
      "\n",
      "\n",
      "\n",
      "\n"
     ]
    }
   ],
   "source": [
    "for c in customers:\n",
    "    c.display_info()"
   ]
  },
  {
   "cell_type": "code",
   "execution_count": 56,
   "id": "2f796e12-86b9-4502-8215-778be735decc",
   "metadata": {},
   "outputs": [
    {
     "data": {
      "text/plain": [
       "2"
      ]
     },
     "execution_count": 56,
     "metadata": {},
     "output_type": "execute_result"
    }
   ],
   "source": [
    "customers = Customer.getCustomers()\n",
    "len(customers)"
   ]
  },
  {
   "cell_type": "code",
   "execution_count": 26,
   "id": "02c18e6b-02af-4ea7-b749-2678eb54b62b",
   "metadata": {},
   "outputs": [
    {
     "name": "stdout",
     "output_type": "stream",
     "text": [
      "Revenue: 751000\n",
      "\n",
      "Most Popular Products:\n",
      "\n",
      "Asus A2:9 sold\n",
      "\n",
      "Asus A1:5 sold\n",
      "\n",
      "Mi A1:1 sold\n",
      "\n"
     ]
    },
    {
     "data": {
      "text/plain": [
       "(751000,\n",
       " [(<__main__.Product at 0x16261470290>, 9),\n",
       "  (<__main__.Product at 0x16261470f50>, 5),\n",
       "  (<__main__.Product at 0x16261470c20>, 1)])"
      ]
     },
     "execution_count": 26,
     "metadata": {},
     "output_type": "execute_result"
    }
   ],
   "source": [
    "generate_sales_report(customers)"
   ]
  },
  {
   "cell_type": "code",
   "execution_count": null,
   "id": "3f501dab-6b7e-4024-8888-e2a09aeec20a",
   "metadata": {},
   "outputs": [],
   "source": []
  },
  {
   "cell_type": "code",
   "execution_count": 21,
   "id": "8613e09a-71e5-4aae-90b8-9eb2d30bb4ca",
   "metadata": {},
   "outputs": [],
   "source": [
    "user_process_order('Sayantika', \"Asus A3\",1)"
   ]
  },
  {
   "cell_type": "code",
   "execution_count": 23,
   "id": "a9b09bd4-5ab9-414d-9a02-812963d6e43b",
   "metadata": {},
   "outputs": [
    {
     "name": "stdout",
     "output_type": "stream",
     "text": [
      "Customer Name: Sayantika\n",
      "Email: sayantika84@gmail.com\n",
      "\n",
      "Order No.:1\n",
      "\n",
      "\tProduct Name: Asus A1\tQuantity: 3\n",
      "\n",
      "\tProduct Name: Asus A2\tQuantity: 4\n",
      "\n",
      "\n",
      "\n",
      "\n",
      "Order No.:2\n",
      "\n",
      "\tProduct Name: Asus A1\tQuantity: 1\n",
      "\n",
      "\tProduct Name: Asus A2\tQuantity: 5\n",
      "\n",
      "\n",
      "\n",
      "\n",
      "Order No.:3\n",
      "\n",
      "\tProduct Name: Asus A3\tQuantity: 1\n",
      "\n",
      "\n",
      "\n",
      "\n"
     ]
    }
   ],
   "source": [
    "Customer1.display_info()"
   ]
  },
  {
   "cell_type": "code",
   "execution_count": null,
   "id": "d563581b-44f8-4091-896a-311cc2414ec7",
   "metadata": {},
   "outputs": [],
   "source": []
  }
 ],
 "metadata": {
  "kernelspec": {
   "display_name": "Python 3 (ipykernel)",
   "language": "python",
   "name": "python3"
  },
  "language_info": {
   "codemirror_mode": {
    "name": "ipython",
    "version": 3
   },
   "file_extension": ".py",
   "mimetype": "text/x-python",
   "name": "python",
   "nbconvert_exporter": "python",
   "pygments_lexer": "ipython3",
   "version": "3.12.9"
  }
 },
 "nbformat": 4,
 "nbformat_minor": 5
}
