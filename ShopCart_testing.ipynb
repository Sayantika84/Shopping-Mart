{
 "cells": [
  {
   "cell_type": "code",
   "execution_count": 1,
   "id": "071f680e-bcf7-4eb9-91a2-625d92b64cd3",
   "metadata": {},
   "outputs": [],
   "source": [
    "import ShopCart"
   ]
  },
  {
   "cell_type": "code",
   "execution_count": 2,
   "id": "56ff752c-a08c-4768-87fd-d84d36a70076",
   "metadata": {},
   "outputs": [
    {
     "name": "stdout",
     "output_type": "stream",
     "text": [
      "\n",
      "E-Commerce Management System\n",
      "1. Add Product\n",
      "2. Add Customer\n",
      "3. Process Order\n",
      "4. Generate Sales Report\n",
      "5. Exit\n",
      "\n"
     ]
    },
    {
     "name": "stdin",
     "output_type": "stream",
     "text": [
      "Enter your choice:  4\n"
     ]
    },
    {
     "name": "stdout",
     "output_type": "stream",
     "text": [
      "Sales Report:\n",
      "\n",
      "Revenue: 816000\n",
      "\n",
      "Most Popular Products:\n",
      "\n",
      "Asus A2:9 sold\n",
      "\n",
      "Asus A1:7 sold\n",
      "\n",
      "Mi A1:1 sold\n",
      "\n",
      "\n",
      "E-Commerce Management System\n",
      "1. Add Product\n",
      "2. Add Customer\n",
      "3. Process Order\n",
      "4. Generate Sales Report\n",
      "5. Exit\n",
      "\n"
     ]
    },
    {
     "name": "stdin",
     "output_type": "stream",
     "text": [
      "Enter your choice:  1\n",
      "Enter Product Name:  Asus A1\n",
      "Enter Product Price:  1000\n",
      "Enter Product Quantity:  2\n"
     ]
    },
    {
     "name": "stdout",
     "output_type": "stream",
     "text": [
      "Product already exists!\n",
      "\n"
     ]
    },
    {
     "name": "stdin",
     "output_type": "stream",
     "text": [
      "Do you want to update price and quantity?(y/n):  y\n"
     ]
    },
    {
     "name": "stdout",
     "output_type": "stream",
     "text": [
      "Quantity & Price updated!\n",
      "Quantity:44\tPrice:1000\n",
      "\n",
      "\n",
      "E-Commerce Management System\n",
      "1. Add Product\n",
      "2. Add Customer\n",
      "3. Process Order\n",
      "4. Generate Sales Report\n",
      "5. Exit\n",
      "\n"
     ]
    },
    {
     "name": "stdin",
     "output_type": "stream",
     "text": [
      "Enter your choice:  5\n"
     ]
    },
    {
     "name": "stdout",
     "output_type": "stream",
     "text": [
      "Exiting...\n",
      "\n"
     ]
    }
   ],
   "source": [
    "ShopCart.main()"
   ]
  },
  {
   "cell_type": "code",
   "execution_count": null,
   "id": "caba6acd-86dd-4b84-81c9-5e91b0df0826",
   "metadata": {},
   "outputs": [],
   "source": []
  }
 ],
 "metadata": {
  "kernelspec": {
   "display_name": "Python 3 (ipykernel)",
   "language": "python",
   "name": "python3"
  },
  "language_info": {
   "codemirror_mode": {
    "name": "ipython",
    "version": 3
   },
   "file_extension": ".py",
   "mimetype": "text/x-python",
   "name": "python",
   "nbconvert_exporter": "python",
   "pygments_lexer": "ipython3",
   "version": "3.12.9"
  }
 },
 "nbformat": 4,
 "nbformat_minor": 5
}
